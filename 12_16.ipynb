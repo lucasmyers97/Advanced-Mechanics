{
 "cells": [
  {
   "cell_type": "markdown",
   "metadata": {},
   "source": [
    "# Oscillating hoop with mass on it"
   ]
  },
  {
   "cell_type": "code",
   "execution_count": 1,
   "metadata": {
    "collapsed": true
   },
   "outputs": [],
   "source": [
    "from sympy import *\n",
    "init_printing()"
   ]
  },
  {
   "cell_type": "code",
   "execution_count": 32,
   "metadata": {
    "collapsed": true
   },
   "outputs": [],
   "source": [
    "M, g, R = symbols('M g R', real=True)\n",
    "omega = symbols('omega')\n",
    "a1, a2 = symbols('a_1 a_2')"
   ]
  },
  {
   "cell_type": "code",
   "execution_count": 15,
   "metadata": {
    "collapsed": false
   },
   "outputs": [],
   "source": [
    "A = M*g*R*Matrix([[2, 0], [0, 1]])\n",
    "m = M*R**2*Matrix([[3, 1], [1, 1]])"
   ]
  },
  {
   "cell_type": "code",
   "execution_count": 16,
   "metadata": {
    "collapsed": false
   },
   "outputs": [
    {
     "data": {
      "image/png": "[encoded data removed]",
      "text/latex": [
       "$\\displaystyle \\left[\\begin{matrix}2 M R g & 0\\\\0 & M R g\\end{matrix}\\right]$"
      ],
      "text/plain": [
       "⎡2⋅M⋅R⋅g    0  ⎤\n",
       "⎢              ⎥\n",
       "⎣   0     M⋅R⋅g⎦"
      ]
     },
     "execution_count": 16,
     "metadata": {},
     "output_type": "execute_result"
    }
   ],
   "source": [
    "A"
   ]
  },
  {
   "cell_type": "code",
   "execution_count": 17,
   "metadata": {
    "collapsed": false
   },
   "outputs": [
    {
     "data": {
      "image/png": "[encoded data removed]",
      "text/latex": [
       "$\\displaystyle \\left[\\begin{matrix}3 M R^{2} & M R^{2}\\\\M R^{2} & M R^{2}\\end{matrix}\\right]$"
      ],
      "text/plain": [
       "⎡     2     2⎤\n",
       "⎢3⋅M⋅R   M⋅R ⎥\n",
       "⎢            ⎥\n",
       "⎢    2      2⎥\n",
       "⎣ M⋅R    M⋅R ⎦"
      ]
     },
     "execution_count": 17,
     "metadata": {},
     "output_type": "execute_result"
    }
   ],
   "source": [
    "m"
   ]
  },
  {
   "cell_type": "markdown",
   "metadata": {},
   "source": [
    "### Find eigenvalues"
   ]
  },
  {
   "cell_type": "code",
   "execution_count": 18,
   "metadata": {
    "collapsed": false
   },
   "outputs": [
    {
     "data": {
      "image/png": "[encoded data removed]",
      "text/latex": [
       "$\\displaystyle M^{2} R^{2} \\left(2 R^{2} \\omega^{4} - 5 R g \\omega^{2} + 2 g^{2}\\right)$"
      ],
      "text/plain": [
       " 2  2 ⎛   2  4          2      2⎞\n",
       "M ⋅R ⋅⎝2⋅R ⋅ω  - 5⋅R⋅g⋅ω  + 2⋅g ⎠"
      ]
     },
     "execution_count": 18,
     "metadata": {},
     "output_type": "execute_result"
    }
   ],
   "source": [
    "eig = det(A - omega**2*m)\n",
    "simplify(eig)"
   ]
  },
  {
   "cell_type": "code",
   "execution_count": 19,
   "metadata": {
    "collapsed": false
   },
   "outputs": [
    {
     "data": {
      "image/png": "[encoded data removed]",
      "text/latex": [
       "$\\displaystyle \\left[ \\frac{g}{2 R}, \\  \\frac{2 g}{R}\\right]$"
      ],
      "text/plain": [
       "⎡ g   2⋅g⎤\n",
       "⎢───, ───⎥\n",
       "⎣2⋅R   R ⎦"
      ]
     },
     "execution_count": 19,
     "metadata": {},
     "output_type": "execute_result"
    }
   ],
   "source": [
    "sol = solve(eig, omega**2)\n",
    "sol"
   ]
  },
  {
   "cell_type": "code",
   "execution_count": 20,
   "metadata": {
    "collapsed": false
   },
   "outputs": [
    {
     "data": {
      "image/png": "[encoded data removed]",
      "text/latex": [
       "$\\displaystyle \\frac{\\sqrt{2} \\sqrt{\\frac{g}{R}}}{2}$"
      ],
      "text/plain": [
       "       ___\n",
       "      ╱ g \n",
       "√2⋅  ╱  ─ \n",
       "   ╲╱   R \n",
       "──────────\n",
       "    2     "
      ]
     },
     "execution_count": 20,
     "metadata": {},
     "output_type": "execute_result"
    }
   ],
   "source": [
    "sqrt(sol[0])"
   ]
  },
  {
   "cell_type": "code",
   "execution_count": 37,
   "metadata": {
    "collapsed": true
   },
   "outputs": [],
   "source": [
    "omega2 = sqrt(sol[0])"
   ]
  },
  {
   "cell_type": "code",
   "execution_count": 36,
   "metadata": {
    "collapsed": false
   },
   "outputs": [
    {
     "data": {
      "image/png": "[encoded data removed]",
      "text/latex": [
       "$\\displaystyle \\sqrt{2} \\sqrt{\\frac{g}{R}}$"
      ],
      "text/plain": [
       "       ___\n",
       "      ╱ g \n",
       "√2⋅  ╱  ─ \n",
       "   ╲╱   R "
      ]
     },
     "execution_count": 36,
     "metadata": {},
     "output_type": "execute_result"
    }
   ],
   "source": [
    "sqrt(sol[1])"
   ]
  },
  {
   "cell_type": "code",
   "execution_count": 38,
   "metadata": {
    "collapsed": true
   },
   "outputs": [],
   "source": [
    "omega1 = sqrt(sol[1])"
   ]
  },
  {
   "cell_type": "markdown",
   "metadata": {},
   "source": [
    "### Find eigenvectors"
   ]
  },
  {
   "cell_type": "code",
   "execution_count": 41,
   "metadata": {
    "collapsed": false
   },
   "outputs": [
    {
     "data": {
      "image/png": "[encoded data removed]",
      "text/latex": [
       "$\\displaystyle \\left\\{\\left( - \\frac{a_{2}}{2}, \\  a_{2}\\right)\\right\\}$"
      ],
      "text/plain": [
       "⎧⎛-a₂     ⎞⎫\n",
       "⎨⎜────, a₂⎟⎬\n",
       "⎩⎝ 2      ⎠⎭"
      ]
     },
     "execution_count": 41,
     "metadata": {},
     "output_type": "execute_result"
    }
   ],
   "source": [
    "B = A - omega1**2*m\n",
    "v = Matrix([0, 0])\n",
    "linsolve((B, v), [a1, a2])"
   ]
  },
  {
   "cell_type": "code",
   "execution_count": 42,
   "metadata": {
    "collapsed": false
   },
   "outputs": [
    {
     "data": {
      "image/png": "[encoded data removed]",
      "text/latex": [
       "$\\displaystyle \\left\\{\\left( a_{2}, \\  a_{2}\\right)\\right\\}$"
      ],
      "text/plain": [
       "{(a₂, a₂)}"
      ]
     },
     "execution_count": 42,
     "metadata": {},
     "output_type": "execute_result"
    }
   ],
   "source": [
    "B = A - omega2**2*m\n",
    "v = Matrix([0, 0])\n",
    "linsolve((B, v), [a1, a2])"
   ]
  }
 ],
 "metadata": {
  "kernelspec": {
   "display_name": "Python 3",
   "language": "python",
   "name": "python3"
  },
  "language_info": {
   "codemirror_mode": {
    "name": "ipython",
    "version": 3
   },
   "file_extension": ".py",
   "mimetype": "text/x-python",
   "name": "python",
   "nbconvert_exporter": "python",
   "pygments_lexer": "ipython3",
   "version": "3.6.6"
  }
 },
 "nbformat": 4,
 "nbformat_minor": 2
}
