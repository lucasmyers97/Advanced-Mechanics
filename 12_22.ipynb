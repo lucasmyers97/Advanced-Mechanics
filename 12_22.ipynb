{
 "cells": [
  {
   "cell_type": "markdown",
   "metadata": {},
   "source": [
    "# Sheet held to edges by springs"
   ]
  },
  {
   "cell_type": "code",
   "execution_count": 1,
   "metadata": {
    "collapsed": true
   },
   "outputs": [],
   "source": [
    "from sympy import *\n",
    "init_printing()"
   ]
  },
  {
   "cell_type": "markdown",
   "metadata": {},
   "source": [
    "### Calculate Moment of inertia"
   ]
  },
  {
   "cell_type": "code",
   "execution_count": 2,
   "metadata": {
    "collapsed": true
   },
   "outputs": [],
   "source": [
    "x, y, z, rho, A, B, M = symbols('x y z rho A B M', real=True)"
   ]
  },
  {
   "cell_type": "code",
   "execution_count": 3,
   "metadata": {
    "collapsed": false
   },
   "outputs": [
    {
     "data": {
      "image/png": "[encoded data removed]",
      "text/latex": [
       "$\\displaystyle 2 B \\left(\\frac{2 A^{3} \\rho}{3} + 2 A \\rho z^{2}\\right)$"
      ],
      "text/plain": [
       "    ⎛   3             ⎞\n",
       "    ⎜2⋅A ⋅ρ          2⎟\n",
       "2⋅B⋅⎜────── + 2⋅A⋅ρ⋅z ⎟\n",
       "    ⎝  3              ⎠"
      ]
     },
     "execution_count": 3,
     "metadata": {},
     "output_type": "execute_result"
    }
   ],
   "source": [
    "expr = z**2 + y**2\n",
    "I11 = integrate(integrate(rho*expr, (y, -A, A)), (x, -B, B))\n",
    "I11"
   ]
  },
  {
   "cell_type": "markdown",
   "metadata": {},
   "source": [
    "* But then mass is given by $M = 4AB*\\rho$, so we can replace $\\rho$ with $\\rho = M/(4AB)$"
   ]
  },
  {
   "cell_type": "code",
   "execution_count": 4,
   "metadata": {
    "collapsed": false
   },
   "outputs": [
    {
     "data": {
      "image/png": "[encoded data removed]",
      "text/latex": [
       "$\\displaystyle \\frac{A^{2} M}{3}$"
      ],
      "text/plain": [
       " 2  \n",
       "A ⋅M\n",
       "────\n",
       " 3  "
      ]
     },
     "execution_count": 4,
     "metadata": {},
     "output_type": "execute_result"
    }
   ],
   "source": [
    "substitutions = {rho: M/(4*A*B), z: 0}\n",
    "I11 = simplify(I11.subs(substitutions))\n",
    "I11"
   ]
  },
  {
   "cell_type": "code",
   "execution_count": 5,
   "metadata": {
    "collapsed": false
   },
   "outputs": [
    {
     "data": {
      "image/png": "[encoded data removed]",
      "text/latex": [
       "$\\displaystyle \\frac{4 A B^{3} \\rho}{3} + 4 A B \\rho z^{2}$"
      ],
      "text/plain": [
       "     3               \n",
       "4⋅A⋅B ⋅ρ            2\n",
       "──────── + 4⋅A⋅B⋅ρ⋅z \n",
       "   3                 "
      ]
     },
     "execution_count": 5,
     "metadata": {},
     "output_type": "execute_result"
    }
   ],
   "source": [
    "expr = z**2 + x**2\n",
    "I22 = integrate(integrate(rho*expr, (y, -A, A)), (x, -B, B))\n",
    "I22"
   ]
  },
  {
   "cell_type": "code",
   "execution_count": 6,
   "metadata": {
    "collapsed": false
   },
   "outputs": [
    {
     "data": {
      "image/png": "[encoded data removed]",
      "text/latex": [
       "$\\displaystyle \\frac{B^{2} M}{3}$"
      ],
      "text/plain": [
       " 2  \n",
       "B ⋅M\n",
       "────\n",
       " 3  "
      ]
     },
     "execution_count": 6,
     "metadata": {},
     "output_type": "execute_result"
    }
   ],
   "source": [
    "substitutions = {rho: M/(4*A*B), z: 0}\n",
    "I22 = simplify(I22.subs(substitutions))\n",
    "I22"
   ]
  },
  {
   "cell_type": "markdown",
   "metadata": {},
   "source": [
    "### Calculate Kinetic Energies"
   ]
  },
  {
   "cell_type": "code",
   "execution_count": 7,
   "metadata": {
    "collapsed": false
   },
   "outputs": [
    {
     "data": {
      "image/png": "[encoded data removed]",
      "text/latex": [
       "$\\displaystyle \\dot{\\theta}$"
      ],
      "text/plain": [
       "\\dot{\\theta}"
      ]
     },
     "metadata": {},
     "output_type": "display_data"
    },
    {
     "data": {
      "image/png": "[encoded data removed]",
      "text/latex": [
       "$\\displaystyle \\dot{\\phi}$"
      ],
      "text/plain": [
       "\\dot{\\phi}"
      ]
     },
     "metadata": {},
     "output_type": "display_data"
    },
    {
     "data": {
      "image/png": "[encoded data removed]",
      "text/latex": [
       "$\\displaystyle \\dot{z}$"
      ],
      "text/plain": [
       "\\dot{z}"
      ]
     },
     "metadata": {},
     "output_type": "display_data"
    }
   ],
   "source": [
    "theta_d, phi_d, z_d, t = symbols('\\dot{\\\\theta} \\dot{\\\\phi} \\dot{z} t', real=True)\n",
    "display(theta_d, phi_d, z_d)"
   ]
  },
  {
   "cell_type": "markdown",
   "metadata": {},
   "source": [
    "**Note**: Here I am using $\\dot{\\theta}$, $\\dot{\\phi}$, and $\\dot{z}$ as symbols instead of actual functions. This is just because it is easier for formatting."
   ]
  },
  {
   "cell_type": "code",
   "execution_count": 8,
   "metadata": {
    "collapsed": false
   },
   "outputs": [
    {
     "data": {
      "image/png": "[encoded data removed]",
      "text/latex": [
       "$\\displaystyle \\frac{M \\dot{z}^{2}}{2}$"
      ],
      "text/plain": [
       "         2\n",
       "M⋅\\dot{z} \n",
       "──────────\n",
       "    2     "
      ]
     },
     "metadata": {},
     "output_type": "display_data"
    },
    {
     "data": {
      "image/png": "[encoded data removed]",
      "text/latex": [
       "$\\displaystyle \\frac{A^{2} M \\dot{\\theta}^{2}}{6}$"
      ],
      "text/plain": [
       " 2               2\n",
       "A ⋅M⋅\\dot{\\theta} \n",
       "──────────────────\n",
       "        6         "
      ]
     },
     "metadata": {},
     "output_type": "display_data"
    },
    {
     "data": {
      "image/png": "[encoded data removed]",
      "text/latex": [
       "$\\displaystyle \\frac{B^{2} M \\dot{\\phi}^{2}}{6}$"
      ],
      "text/plain": [
       " 2             2\n",
       "B ⋅M⋅\\dot{\\phi} \n",
       "────────────────\n",
       "       6        "
      ]
     },
     "metadata": {},
     "output_type": "display_data"
    }
   ],
   "source": [
    "T1 = Rational(1, 2)*M*z_d**2\n",
    "T2 = Rational(1, 2)*I11*theta_d**2\n",
    "T3 = Rational(1, 2)*I22*phi_d**2\n",
    "display(T1, T2, T3)"
   ]
  },
  {
   "cell_type": "code",
   "execution_count": 9,
   "metadata": {
    "collapsed": false
   },
   "outputs": [
    {
     "data": {
      "image/png": "[encoded data removed]",
      "text/latex": [
       "$\\displaystyle \\frac{M \\left(A^{2} \\dot{\\theta}^{2} + B^{2} \\dot{\\phi}^{2} + 3 \\dot{z}^{2}\\right)}{6}$"
      ],
      "text/plain": [
       "  ⎛ 2             2    2           2            2⎞\n",
       "M⋅⎝A ⋅\\dot{\\theta}  + B ⋅\\dot{\\phi}  + 3⋅\\dot{z} ⎠\n",
       "──────────────────────────────────────────────────\n",
       "                        6                         "
      ]
     },
     "metadata": {},
     "output_type": "display_data"
    }
   ],
   "source": [
    "T = simplify(T1 + T2 + T3)\n",
    "display(T)"
   ]
  },
  {
   "cell_type": "markdown",
   "metadata": {},
   "source": [
    "### Calculate Potential Energies"
   ]
  },
  {
   "cell_type": "code",
   "execution_count": 10,
   "metadata": {
    "collapsed": true
   },
   "outputs": [],
   "source": [
    "k, g = symbols('k g', real=True)\n",
    "z, theta, phi, omega = symbols('z theta phi omega', real=True)"
   ]
  },
  {
   "cell_type": "code",
   "execution_count": 11,
   "metadata": {
    "collapsed": false
   },
   "outputs": [
    {
     "data": {
      "image/png": "[encoded data removed]",
      "text/latex": [
       "$\\displaystyle \\frac{k \\left(- A \\theta - B \\phi + z\\right)^{2}}{2} + \\frac{k \\left(- A \\theta + B \\phi + z\\right)^{2}}{2} + \\frac{k \\left(A \\theta - B \\phi + z\\right)^{2}}{2} + \\frac{k \\left(A \\theta + B \\phi + z\\right)^{2}}{2}$"
      ],
      "text/plain": [
       "                  2                     2                    2                \n",
       "k⋅(-A⋅θ - B⋅φ + z)    k⋅(-A⋅θ + B⋅φ + z)    k⋅(A⋅θ - B⋅φ + z)    k⋅(A⋅θ + B⋅φ \n",
       "─────────────────── + ─────────────────── + ────────────────── + ─────────────\n",
       "         2                     2                    2                    2    \n",
       "\n",
       "    2\n",
       "+ z) \n",
       "─────\n",
       "     "
      ]
     },
     "metadata": {},
     "output_type": "display_data"
    },
    {
     "data": {
      "image/png": "[encoded data removed]",
      "text/latex": [
       "$\\displaystyle 2 k \\left(A^{2} \\theta^{2} + B^{2} \\phi^{2} + z^{2}\\right)$"
      ],
      "text/plain": [
       "    ⎛ 2  2    2  2    2⎞\n",
       "2⋅k⋅⎝A ⋅θ  + B ⋅φ  + z ⎠"
      ]
     },
     "metadata": {},
     "output_type": "display_data"
    }
   ],
   "source": [
    "U1 = Rational(1, 2)*k*(z - theta*A - phi*B)**2\n",
    "U2 = Rational(1, 2)*k*(z + theta*A - phi*B)**2\n",
    "U3 = Rational(1, 2)*k*(z + theta*A + phi*B)**2\n",
    "U4 = Rational(1, 2)*k*(z - theta*A + phi*B)**2\n",
    "U = U1 + U2 + U3 + U4\n",
    "display(U)\n",
    "display(simplify(U))"
   ]
  },
  {
   "cell_type": "markdown",
   "metadata": {},
   "source": [
    "### Solve for $\\omega$"
   ]
  },
  {
   "cell_type": "code",
   "execution_count": 26,
   "metadata": {
    "collapsed": false
   },
   "outputs": [
    {
     "data": {
      "image/png": "[encoded data removed]",
      "text/latex": [
       "$\\displaystyle \\left[\\begin{matrix}4 k & 0 & 0\\\\0 & 4 A^{2} k & 0\\\\0 & 0 & 4 B^{2} k\\end{matrix}\\right]$"
      ],
      "text/plain": [
       "⎡4⋅k    0       0   ⎤\n",
       "⎢                   ⎥\n",
       "⎢        2          ⎥\n",
       "⎢ 0   4⋅A ⋅k    0   ⎥\n",
       "⎢                   ⎥\n",
       "⎢                2  ⎥\n",
       "⎣ 0     0     4⋅B ⋅k⎦"
      ]
     },
     "metadata": {},
     "output_type": "display_data"
    },
    {
     "data": {
      "image/png": "[encoded data removed]",
      "text/latex": [
       "$\\displaystyle \\left[\\begin{matrix}M & 0 & 0\\\\0 & \\frac{A^{2} M}{3} & 0\\\\0 & 0 & \\frac{B^{2} M}{3}\\end{matrix}\\right]$"
      ],
      "text/plain": [
       "⎡M   0     0  ⎤\n",
       "⎢             ⎥\n",
       "⎢    2        ⎥\n",
       "⎢   A ⋅M      ⎥\n",
       "⎢0  ────   0  ⎥\n",
       "⎢    3        ⎥\n",
       "⎢             ⎥\n",
       "⎢          2  ⎥\n",
       "⎢         B ⋅M⎥\n",
       "⎢0   0    ────⎥\n",
       "⎣          3  ⎦"
      ]
     },
     "metadata": {},
     "output_type": "display_data"
    }
   ],
   "source": [
    "L = 4*k*Matrix([[1, 0, 0], [0, A**2, 0], [0, 0, B**2]])\n",
    "m_mat = M*Matrix([[1, 0, 0], [0, A**2/3, 0], [0, 0, B**2/3]])\n",
    "display(L)\n",
    "display(m_mat)"
   ]
  },
  {
   "cell_type": "code",
   "execution_count": 27,
   "metadata": {
    "collapsed": false
   },
   "outputs": [
    {
     "data": {
      "image/png": "[encoded data removed]",
      "text/latex": [
       "$\\displaystyle - \\frac{A^{2} B^{2} \\left(M \\omega^{2} - 12 k\\right)^{2} \\left(M \\omega^{2} - 4 k\\right)}{9}$"
      ],
      "text/plain": [
       "                    2              \n",
       "  2  2 ⎛   2       ⎞  ⎛   2      ⎞ \n",
       "-A ⋅B ⋅⎝M⋅ω  - 12⋅k⎠ ⋅⎝M⋅ω  - 4⋅k⎠ \n",
       "───────────────────────────────────\n",
       "                 9                 "
      ]
     },
     "metadata": {},
     "output_type": "display_data"
    }
   ],
   "source": [
    "expr = simplify(det(L - omega**2*m_mat))\n",
    "display(expr)"
   ]
  },
  {
   "cell_type": "code",
   "execution_count": 28,
   "metadata": {
    "collapsed": false
   },
   "outputs": [
    {
     "data": {
      "image/png": "[encoded data removed]",
      "text/latex": [
       "$\\displaystyle \\left[ \\frac{4 k}{M}, \\  \\frac{12 k}{M}\\right]$"
      ],
      "text/plain": [
       "⎡4⋅k  12⋅k⎤\n",
       "⎢───, ────⎥\n",
       "⎣ M    M  ⎦"
      ]
     },
     "metadata": {},
     "output_type": "display_data"
    }
   ],
   "source": [
    "sol = solve(expr, omega**2)\n",
    "display(sol)"
   ]
  },
  {
   "cell_type": "markdown",
   "metadata": {},
   "source": [
    "### Find eigenvectors"
   ]
  },
  {
   "cell_type": "code",
   "execution_count": 29,
   "metadata": {
    "collapsed": true
   },
   "outputs": [],
   "source": [
    "a1, a2, a3 = symbols('a_1 a_2 a_3')\n",
    "a = Matrix([a1, a2, a3])"
   ]
  },
  {
   "cell_type": "code",
   "execution_count": 30,
   "metadata": {
    "collapsed": false
   },
   "outputs": [
    {
     "data": {
      "image/png": "[encoded data removed]",
      "text/latex": [
       "$\\displaystyle \\left[\\begin{matrix}- 8 a_{1} k\\\\0\\\\0\\end{matrix}\\right]$"
      ],
      "text/plain": [
       "⎡-8⋅a₁⋅k⎤\n",
       "⎢       ⎥\n",
       "⎢   0   ⎥\n",
       "⎢       ⎥\n",
       "⎣   0   ⎦"
      ]
     },
     "execution_count": 30,
     "metadata": {},
     "output_type": "execute_result"
    }
   ],
   "source": [
    "(L - sol[1]*m_mat)*a"
   ]
  },
  {
   "cell_type": "code",
   "execution_count": 31,
   "metadata": {
    "collapsed": false
   },
   "outputs": [
    {
     "data": {
      "image/png": "[encoded data removed]",
      "text/latex": [
       "$\\displaystyle \\left\\{\\left( 0, \\  a_{2}, \\  a_{3}\\right)\\right\\}$"
      ],
      "text/plain": [
       "{(0, a₂, a₃)}"
      ]
     },
     "execution_count": 31,
     "metadata": {},
     "output_type": "execute_result"
    }
   ],
   "source": [
    "b = Matrix([0, 0, 0])\n",
    "linsolve(((L - sol[1]*m_mat), b), [a1, a2, a3])"
   ]
  },
  {
   "cell_type": "code",
   "execution_count": 32,
   "metadata": {
    "collapsed": false
   },
   "outputs": [
    {
     "data": {
      "image/png": "[encoded data removed]",
      "text/latex": [
       "$\\displaystyle \\left[\\begin{matrix}0\\\\\\frac{8 A^{2} a_{2} k}{3}\\\\\\frac{8 B^{2} a_{3} k}{3}\\end{matrix}\\right]$"
      ],
      "text/plain": [
       "⎡    0    ⎤\n",
       "⎢         ⎥\n",
       "⎢   2     ⎥\n",
       "⎢8⋅A ⋅a₂⋅k⎥\n",
       "⎢─────────⎥\n",
       "⎢    3    ⎥\n",
       "⎢         ⎥\n",
       "⎢   2     ⎥\n",
       "⎢8⋅B ⋅a₃⋅k⎥\n",
       "⎢─────────⎥\n",
       "⎣    3    ⎦"
      ]
     },
     "execution_count": 32,
     "metadata": {},
     "output_type": "execute_result"
    }
   ],
   "source": [
    "(L - sol[0]*m_mat)*a"
   ]
  },
  {
   "cell_type": "code",
   "execution_count": 33,
   "metadata": {
    "collapsed": false
   },
   "outputs": [
    {
     "data": {
      "image/png": "[encoded data removed]",
      "text/latex": [
       "$\\displaystyle \\left\\{\\left( a_{1}, \\  0, \\  0\\right)\\right\\}$"
      ],
      "text/plain": [
       "{(a₁, 0, 0)}"
      ]
     },
     "execution_count": 33,
     "metadata": {},
     "output_type": "execute_result"
    }
   ],
   "source": [
    "linsolve(((L - sol[0]*m_mat), b), [a1, a2, a3])"
   ]
  },
  {
   "cell_type": "markdown",
   "metadata": {},
   "source": [
    "### Add in kinetic energy from rod"
   ]
  },
  {
   "cell_type": "code",
   "execution_count": 20,
   "metadata": {
    "collapsed": true
   },
   "outputs": [],
   "source": [
    "m = symbols('m')"
   ]
  },
  {
   "cell_type": "code",
   "execution_count": 21,
   "metadata": {
    "collapsed": false
   },
   "outputs": [
    {
     "data": {
      "image/png": "[encoded data removed]",
      "text/latex": [
       "$\\displaystyle \\frac{A^{2} m}{3}$"
      ],
      "text/plain": [
       " 2  \n",
       "A ⋅m\n",
       "────\n",
       " 3  "
      ]
     },
     "metadata": {},
     "output_type": "display_data"
    }
   ],
   "source": [
    "Irod = rho*integrate(y**2 + z**2, (y, -A, A))\n",
    "Irod = Irod.subs({z: 0, rho: m/(2*A)})\n",
    "display(Irod)"
   ]
  },
  {
   "cell_type": "code",
   "execution_count": 22,
   "metadata": {
    "collapsed": false
   },
   "outputs": [
    {
     "data": {
      "image/png": "[encoded data removed]",
      "text/latex": [
       "$\\displaystyle \\frac{A^{2} M \\dot{\\theta}^{2}}{6} + \\frac{A^{2} \\dot{\\theta}^{2} m}{6} + \\frac{B^{2} M \\dot{\\phi}^{2}}{6} + \\frac{M \\dot{z}^{2}}{2} + \\frac{\\dot{z}^{2} m}{2}$"
      ],
      "text/plain": [
       " 2               2    2             2      2             2            2       \n",
       "A ⋅M⋅\\dot{\\theta}    A ⋅\\dot{\\theta} ⋅m   B ⋅M⋅\\dot{\\phi}    M⋅\\dot{z}    \\dot\n",
       "────────────────── + ────────────────── + ──────────────── + ────────── + ────\n",
       "        6                    6                   6               2            \n",
       "\n",
       "   2  \n",
       "{z} ⋅m\n",
       "──────\n",
       "2     "
      ]
     },
     "metadata": {},
     "output_type": "display_data"
    }
   ],
   "source": [
    "T4 = Rational(1, 2)*m*z_d**2\n",
    "T5 = Rational(1, 2)*Irod*theta_d**2\n",
    "Tnew = simplify(T1 + T2 + T3 + T4 + T5)\n",
    "display(Tnew)"
   ]
  },
  {
   "cell_type": "markdown",
   "metadata": {},
   "source": [
    "### Find new eigenfrequencies, given updated kinetic energy"
   ]
  },
  {
   "cell_type": "code",
   "execution_count": 23,
   "metadata": {
    "collapsed": false
   },
   "outputs": [
    {
     "data": {
      "image/png": "[encoded data removed]",
      "text/latex": [
       "$\\displaystyle \\left[\\begin{matrix}M + m & 0 & 0\\\\0 & \\frac{A^{2} \\left(M + m\\right)}{3} & 0\\\\0 & 0 & \\frac{B^{2} M}{3}\\end{matrix}\\right]$"
      ],
      "text/plain": [
       "⎡M + m      0        0  ⎤\n",
       "⎢                       ⎥\n",
       "⎢        2              ⎥\n",
       "⎢       A ⋅(M + m)      ⎥\n",
       "⎢  0    ──────────   0  ⎥\n",
       "⎢           3           ⎥\n",
       "⎢                       ⎥\n",
       "⎢                    2  ⎥\n",
       "⎢                   B ⋅M⎥\n",
       "⎢  0        0       ────⎥\n",
       "⎣                    3  ⎦"
      ]
     },
     "metadata": {},
     "output_type": "display_data"
    }
   ],
   "source": [
    "m_new = Matrix([[M + m, 0, 0], \n",
    "                [0, A**2/3*(M + m), 0], \n",
    "                [0, 0, B**2*M/3]])\n",
    "display(m_new)"
   ]
  },
  {
   "cell_type": "code",
   "execution_count": 24,
   "metadata": {
    "collapsed": false
   },
   "outputs": [
    {
     "data": {
      "image/png": "[encoded data removed]",
      "text/latex": [
       "$\\displaystyle - \\frac{A^{2} B^{2} \\left(4 k - \\omega^{2} \\left(M + m\\right)\\right) \\left(12 k - \\omega^{2} \\left(M + m\\right)\\right) \\left(M \\omega^{2} - 12 k\\right)}{9}$"
      ],
      "text/plain": [
       "  2  2 ⎛       2        ⎞ ⎛        2        ⎞ ⎛   2       ⎞ \n",
       "-A ⋅B ⋅⎝4⋅k - ω ⋅(M + m)⎠⋅⎝12⋅k - ω ⋅(M + m)⎠⋅⎝M⋅ω  - 12⋅k⎠ \n",
       "────────────────────────────────────────────────────────────\n",
       "                             9                              "
      ]
     },
     "metadata": {},
     "output_type": "display_data"
    }
   ],
   "source": [
    "expr_new = simplify(det(L - omega**2*m_new))\n",
    "display(expr_new)"
   ]
  },
  {
   "cell_type": "code",
   "execution_count": 25,
   "metadata": {
    "collapsed": false
   },
   "outputs": [
    {
     "data": {
      "image/png": "[encoded data removed]",
      "text/latex": [
       "$\\displaystyle \\left[ \\frac{12 k}{M}, \\  \\frac{4 k}{M + m}, \\  \\frac{12 k}{M + m}\\right]$"
      ],
      "text/plain": [
       "⎡12⋅k   4⋅k    12⋅k⎤\n",
       "⎢────, ─────, ─────⎥\n",
       "⎣ M    M + m  M + m⎦"
      ]
     },
     "execution_count": 25,
     "metadata": {},
     "output_type": "execute_result"
    }
   ],
   "source": [
    "solve(expr_new, omega**2)"
   ]
  }
 ],
 "metadata": {
  "kernelspec": {
   "display_name": "Python 3",
   "language": "python",
   "name": "python3"
  },
  "language_info": {
   "codemirror_mode": {
    "name": "ipython",
    "version": 3
   },
   "file_extension": ".py",
   "mimetype": "text/x-python",
   "name": "python",
   "nbconvert_exporter": "python",
   "pygments_lexer": "ipython3",
   "version": "3.6.6"
  }
 },
 "nbformat": 4,
 "nbformat_minor": 2
}
